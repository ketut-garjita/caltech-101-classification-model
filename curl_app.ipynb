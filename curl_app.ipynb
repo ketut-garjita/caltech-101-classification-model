{
 "cells": [
  {
   "cell_type": "code",
   "execution_count": 3,
   "id": "ef812c03-5a09-43af-8ff2-ce07d967610e",
   "metadata": {},
   "outputs": [
    {
     "name": "stdout",
     "output_type": "stream",
     "text": [
      "Response:\n",
      "{'statusCode': 200, 'body': 'File successfully saved to S3: https://dtcml-outputs.s3.amazonaws.com/prediction-lambda.png'}\n"
     ]
    }
   ],
   "source": [
    "import subprocess\n",
    "import os\n",
    "import boto3\n",
    "\n",
    "# S3 configuration\n",
    "S3_BUCKET = \"dtcml-outputs\"  # Ganti dengan nama bucket S3\n",
    "s3_client = boto3.client('s3')\n",
    "\n",
    "def handler(event, context):\n",
    "    try:\n",
    "        # Step 1: Call API Gateway using curl\n",
    "        api_url = \"https://kpll0fgxze.execute-api.ap-southeast-3.amazonaws.com/test/predict/visualize_predictions?num_images=16\"\n",
    "        output_path = \"/tmp/prediction.png\"\n",
    "        \n",
    "        # Run curl command\n",
    "        curl_command = [\"curl\", \"-s\", api_url, \"--output\", output_path]\n",
    "        result = subprocess.run(curl_command, capture_output=True, text=True)\n",
    "        \n",
    "        # Check if curl command succeeded\n",
    "        if result.returncode != 0:\n",
    "            return {\n",
    "                \"statusCode\": 500,\n",
    "                \"body\": f\"Error calling API Gateway: {result.stderr}\"\n",
    "            }\n",
    "        \n",
    "        # Step 2: Upload the file to S3\n",
    "        s3_key = \"prediction-lambda.png\"\n",
    "        s3_client.upload_file(output_path, S3_BUCKET, s3_key)\n",
    "        \n",
    "        # Step 3: Generate file URL\n",
    "        file_url = f\"https://{S3_BUCKET}.s3.amazonaws.com/{s3_key}\"\n",
    "        \n",
    "        return {\n",
    "            \"statusCode\": 200,\n",
    "            \"body\": f\"File successfully saved to S3: {file_url}\"\n",
    "        }\n",
    "\n",
    "    except Exception as e:\n",
    "        return {\n",
    "            \"statusCode\": 500,\n",
    "            \"body\": f\"Error: {str(e)}\"\n",
    "        }\n",
    "\n",
    "if __name__ == \"__main__\":\n",
    "    # Simulate AWS Lambda event and context\n",
    "    event = {}\n",
    "    context = {}\n",
    "    \n",
    "    response = handler(event, context)\n",
    "    print(\"Response:\")\n",
    "    print(response)\n"
   ]
  },
  {
   "cell_type": "code",
   "execution_count": null,
   "id": "d68069b7-76d3-4b54-b60b-257c89b59a60",
   "metadata": {},
   "outputs": [],
   "source": []
  }
 ],
 "metadata": {
  "kernelspec": {
   "display_name": "Python 3 (ipykernel)",
   "language": "python",
   "name": "python3"
  },
  "language_info": {
   "codemirror_mode": {
    "name": "ipython",
    "version": 3
   },
   "file_extension": ".py",
   "mimetype": "text/x-python",
   "name": "python",
   "nbconvert_exporter": "python",
   "pygments_lexer": "ipython3",
   "version": "3.11.9"
  }
 },
 "nbformat": 4,
 "nbformat_minor": 5
}
