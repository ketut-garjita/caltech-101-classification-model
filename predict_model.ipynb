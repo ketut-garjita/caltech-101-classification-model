{
 "cells": [
  {
   "cell_type": "code",
   "execution_count": null,
   "id": "3bbf1474-db70-455a-8e3e-011b069472a7",
   "metadata": {},
   "outputs": [
    {
     "name": "stdout",
     "output_type": "stream",
     "text": [
      " * Serving Flask app '__main__'\n",
      " * Debug mode: off\n"
     ]
    },
    {
     "name": "stderr",
     "output_type": "stream",
     "text": [
      "INFO:werkzeug:\u001b[31m\u001b[1mWARNING: This is a development server. Do not use it in a production deployment. Use a production WSGI server instead.\u001b[0m\n",
      " * Running on all addresses (0.0.0.0)\n",
      " * Running on http://127.0.0.1:5000\n",
      " * Running on http://192.168.241.128:5000\n",
      "INFO:werkzeug:\u001b[33mPress CTRL+C to quit\u001b[0m\n"
     ]
    }
   ],
   "source": [
    "from flask import Flask, request, jsonify, send_file\n",
    "import tensorflow as tf\n",
    "import numpy as np\n",
    "import matplotlib.pyplot as plt\n",
    "import os\n",
    "import tensorflow_datasets as tfds\n",
    "\n",
    "# Load model and dataset\n",
    "model_path = 'model/caltech101_cnn_model.keras'\n",
    "model = tf.keras.models.load_model(model_path)\n",
    "\n",
    "# Load dataset\n",
    "tfds_dir = \"data/\"\n",
    "dataset, info = tfds.load(\"caltech101\", as_supervised=True, with_info=True, data_dir=tfds_dir)\n",
    "test_data = dataset[\"test\"].map(lambda img, lbl: (tf.image.resize(img, (128, 128)) / 255.0, lbl)).batch(32)\n",
    "\n",
    "# Flask App\n",
    "app = Flask(__name__)\n",
    "\n",
    "# Prediction Function\n",
    "def visualize_predictions(dataset, model, num_images=16, output_file=\"output/Visualize_Prediction.png\"):\n",
    "    class_names = info.features['label'].names\n",
    "    for images, labels in dataset.take(1):\n",
    "        preds = model.predict(images)\n",
    "        pred_labels = np.argmax(preds, axis=1)\n",
    "\n",
    "        plt.figure(figsize=(8, 8))\n",
    "        for i in range(min(num_images, images.shape[0])):\n",
    "            plt.subplot(4, 4, i + 1)\n",
    "            plt.imshow(images[i].numpy())\n",
    "            plt.title(f\"True: {class_names[labels[i]]}\\nPred: {class_names[pred_labels[i]]}\")\n",
    "            plt.axis('off')\n",
    "        plt.tight_layout()\n",
    "        plt.savefig(output_file)\n",
    "        plt.close()\n",
    "\n",
    "@app.route('/visualize_predictions', methods=['GET'])\n",
    "def handle_visualize_predictions():\n",
    "    try:\n",
    "        num_images = int(request.args.get('num_images', 16))\n",
    "        output_file = \"output/Visualize_Prediction.png\"\n",
    "        \n",
    "        visualize_predictions(test_data, model, num_images, output_file)\n",
    "        \n",
    "        return send_file(output_file, mimetype='image/png')\n",
    "    except Exception as e:\n",
    "        return jsonify({\"error\": str(e)}), 500\n",
    "\n",
    "if __name__ == '__main__':\n",
    "    app.run(host='0.0.0.0', port=5000)\n"
   ]
  },
  {
   "cell_type": "code",
   "execution_count": null,
   "id": "3ca1cd2f-ff16-4642-b759-1f5bb4d625b9",
   "metadata": {},
   "outputs": [],
   "source": []
  }
 ],
 "metadata": {
  "kernelspec": {
   "display_name": "Python 3 (ipykernel)",
   "language": "python",
   "name": "python3"
  },
  "language_info": {
   "codemirror_mode": {
    "name": "ipython",
    "version": 3
   },
   "file_extension": ".py",
   "mimetype": "text/x-python",
   "name": "python",
   "nbconvert_exporter": "python",
   "pygments_lexer": "ipython3",
   "version": "3.11.9"
  }
 },
 "nbformat": 4,
 "nbformat_minor": 5
}
